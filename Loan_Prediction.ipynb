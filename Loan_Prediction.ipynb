{
  "nbformat": 4,
  "nbformat_minor": 0,
  "metadata": {
    "colab": {
      "provenance": [],
      "toc_visible": true,
      "authorship_tag": "ABX9TyPbv+LktfWYN61d8u2soNDv",
      "include_colab_link": true
    },
    "kernelspec": {
      "name": "python3",
      "display_name": "Python 3"
    },
    "language_info": {
      "name": "python"
    }
  },
  "cells": [
    {
      "cell_type": "markdown",
      "metadata": {
        "id": "view-in-github",
        "colab_type": "text"
      },
      "source": [
        "<a href=\"https://colab.research.google.com/github/Satyansh-Rawat-1812/AutoAI-Model-Bulding-In-IBM-Watson-Studio/blob/main/Loan_Prediction.ipynb\" target=\"_parent\"><img src=\"https://colab.research.google.com/assets/colab-badge.svg\" alt=\"Open In Colab\"/></a>"
      ]
    },
    {
      "cell_type": "code",
      "source": [
        "import requests\n",
        "\n",
        "# 1. Replace this with your API key\n",
        "API_KEY = \"iE7ji0srJdo-qBUbwXNE3L2ocw0_Hwts-ErznZl_K95D\"\n",
        "\n",
        "# 2. Get Access Token\n",
        "token_response = requests.post(\n",
        "    'https://iam.cloud.ibm.com/identity/token',\n",
        "    data={\"apikey\": API_KEY, \"grant_type\": 'urn:ibm:params:oauth:grant-type:apikey'}\n",
        ")\n",
        "mltoken = token_response.json()[\"access_token\"]\n",
        "\n",
        "# 3. Replace with your deployment endpoint and version\n",
        "DEPLOYMENT_URL = \"https://au-syd.ml.cloud.ibm.com/ml/v4/deployments/9d5dc1b8-731a-4509-b79f-1becd8c235c8/predictions?version=2021-05-01\"\n",
        "\n",
        "# 4. Input data structure as per your AutoAI model\n",
        "payload_scoring = {\n",
        "    \"input_data\": [\n",
        "        {\n",
        "            \"fields\": [\"Loan_ID\", \"Gender\", \"Married\", \"Dependents\", \"Education\",\n",
        "                       \"Self_Employed\", \"ApplicantIncome\", \"CoapplicantIncome\",\n",
        "                       \"LoanAmount\", \"Loan_Amount_Term\", \"Credit_History\", \"Property_Area\"],\n",
        "            \"values\": [\n",
        "                [\"LP001002\", \"Male\", \"Yes\", \"0\", \"Graduate\", \"No\", 5849, 0.0, 128.0, 360.0, 1.0, \"Urban\"],\n",
        "                [\"LP001003\", \"Male\", \"Yes\", \"1\", \"Graduate\", \"No\", 4583, 1508.0, 128.0, 360.0, 1.0, \"Rural\"],\n",
        "                [\"LP001005\", \"Male\", \"Yes\", \"0\", \"Graduate\", \"Yes\", 3000, 0.0, 66.0, 360.0, 1.0, \"Urban\"]\n",
        "            ]\n",
        "        }\n",
        "    ]\n",
        "}\n",
        "\n",
        "# 5. Scoring request\n",
        "response_scoring = requests.post(\n",
        "    DEPLOYMENT_URL,\n",
        "    json=payload_scoring,\n",
        "    headers={'Content-Type': 'application/json', 'Authorization': 'Bearer ' + mltoken}\n",
        ")\n",
        "\n",
        "# 6. Print prediction results\n",
        "print(\"Scoring response:\")\n",
        "try:\n",
        "    print(response_scoring.json())\n",
        "except ValueError:\n",
        "    print(response_scoring.text)\n",
        "except Exception as e:\n",
        "    print(f\"An unexpected error occurred: {e}\")\n",
        "\n",
        "\n"
      ],
      "metadata": {
        "id": "KDVVG9V6LQqY"
      },
      "execution_count": null,
      "outputs": []
    }
  ]
}